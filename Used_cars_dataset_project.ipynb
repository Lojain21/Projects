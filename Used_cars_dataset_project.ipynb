{
  "nbformat": 4,
  "nbformat_minor": 0,
  "metadata": {
    "colab": {
      "provenance": []
    },
    "kernelspec": {
      "name": "python3",
      "display_name": "Python 3"
    },
    "language_info": {
      "name": "python"
    }
  },
  "cells": [
    {
      "cell_type": "code",
      "execution_count": null,
      "metadata": {
        "colab": {
          "base_uri": "https://localhost:8080/"
        },
        "id": "ZzB5B-FH4Yl5",
        "outputId": "e5b06e60-3006-44ce-837b-8581d8c23a00"
      },
      "outputs": [
        {
          "output_type": "stream",
          "name": "stdout",
          "text": [
            "Warning: Looks like you're using an outdated `kagglehub` version, please consider updating (latest version: 0.3.5)\n",
            "Downloading from https://www.kaggle.com/api/v1/datasets/download/austinreese/craigslist-carstrucks-data?dataset_version_number=10...\n"
          ]
        },
        {
          "output_type": "stream",
          "name": "stderr",
          "text": [
            "100%|██████████| 262M/262M [00:02<00:00, 92.3MB/s]"
          ]
        },
        {
          "output_type": "stream",
          "name": "stdout",
          "text": [
            "Extracting files...\n"
          ]
        },
        {
          "output_type": "stream",
          "name": "stderr",
          "text": [
            "\n"
          ]
        },
        {
          "output_type": "stream",
          "name": "stdout",
          "text": [
            "Path to dataset files: /root/.cache/kagglehub/datasets/austinreese/craigslist-carstrucks-data/versions/10\n"
          ]
        }
      ],
      "source": [
        "import kagglehub\n",
        "\n",
        "# Download latest version\n",
        "path = kagglehub.dataset_download(\"austinreese/craigslist-carstrucks-data\")\n",
        "\n",
        "print(\"Path to dataset files:\", path)"
      ]
    },
    {
      "cell_type": "code",
      "source": [
        "import pandas as pd\n",
        "import numpy as np\n",
        "import matplotlib.pyplot as plt\n",
        "import seaborn as sns\n",
        "import datetime as dt\n",
        "import warnings\n",
        "warnings.filterwarnings('ignore')"
      ],
      "metadata": {
        "id": "m4JZqVtN5HIs"
      },
      "execution_count": 32,
      "outputs": []
    },
    {
      "cell_type": "code",
      "source": [
        "df = pd.read_csv(path + '/vehicles.csv')\n",
        "df.head()"
      ],
      "metadata": {
        "colab": {
          "base_uri": "https://localhost:8080/",
          "height": 308
        },
        "id": "Zna91mN-4jTI",
        "outputId": "1dadde4f-b055-452d-8857-75a391dbb5d7"
      },
      "execution_count": null,
      "outputs": [
        {
          "output_type": "execute_result",
          "data": {
            "text/plain": [
              "           id                                                url  \\\n",
              "0  7222695916  https://prescott.craigslist.org/cto/d/prescott...   \n",
              "1  7218891961  https://fayar.craigslist.org/ctd/d/bentonville...   \n",
              "2  7221797935  https://keys.craigslist.org/cto/d/summerland-k...   \n",
              "3  7222270760  https://worcester.craigslist.org/cto/d/west-br...   \n",
              "4  7210384030  https://greensboro.craigslist.org/cto/d/trinit...   \n",
              "\n",
              "                   region                         region_url  price  year  \\\n",
              "0                prescott    https://prescott.craigslist.org   6000   NaN   \n",
              "1            fayetteville       https://fayar.craigslist.org  11900   NaN   \n",
              "2            florida keys        https://keys.craigslist.org  21000   NaN   \n",
              "3  worcester / central MA   https://worcester.craigslist.org   1500   NaN   \n",
              "4              greensboro  https://greensboro.craigslist.org   4900   NaN   \n",
              "\n",
              "  manufacturer model condition cylinders  ... size  type paint_color  \\\n",
              "0          NaN   NaN       NaN       NaN  ...  NaN   NaN         NaN   \n",
              "1          NaN   NaN       NaN       NaN  ...  NaN   NaN         NaN   \n",
              "2          NaN   NaN       NaN       NaN  ...  NaN   NaN         NaN   \n",
              "3          NaN   NaN       NaN       NaN  ...  NaN   NaN         NaN   \n",
              "4          NaN   NaN       NaN       NaN  ...  NaN   NaN         NaN   \n",
              "\n",
              "  image_url description county state lat long posting_date  \n",
              "0       NaN         NaN    NaN    az NaN  NaN          NaN  \n",
              "1       NaN         NaN    NaN    ar NaN  NaN          NaN  \n",
              "2       NaN         NaN    NaN    fl NaN  NaN          NaN  \n",
              "3       NaN         NaN    NaN    ma NaN  NaN          NaN  \n",
              "4       NaN         NaN    NaN    nc NaN  NaN          NaN  \n",
              "\n",
              "[5 rows x 26 columns]"
            ],
            "text/html": [
              "\n",
              "  <div id=\"df-e3656fe8-f4bd-4e97-9a94-c4bae612051d\" class=\"colab-df-container\">\n",
              "    <div>\n",
              "<style scoped>\n",
              "    .dataframe tbody tr th:only-of-type {\n",
              "        vertical-align: middle;\n",
              "    }\n",
              "\n",
              "    .dataframe tbody tr th {\n",
              "        vertical-align: top;\n",
              "    }\n",
              "\n",
              "    .dataframe thead th {\n",
              "        text-align: right;\n",
              "    }\n",
              "</style>\n",
              "<table border=\"1\" class=\"dataframe\">\n",
              "  <thead>\n",
              "    <tr style=\"text-align: right;\">\n",
              "      <th></th>\n",
              "      <th>id</th>\n",
              "      <th>url</th>\n",
              "      <th>region</th>\n",
              "      <th>region_url</th>\n",
              "      <th>price</th>\n",
              "      <th>year</th>\n",
              "      <th>manufacturer</th>\n",
              "      <th>model</th>\n",
              "      <th>condition</th>\n",
              "      <th>cylinders</th>\n",
              "      <th>...</th>\n",
              "      <th>size</th>\n",
              "      <th>type</th>\n",
              "      <th>paint_color</th>\n",
              "      <th>image_url</th>\n",
              "      <th>description</th>\n",
              "      <th>county</th>\n",
              "      <th>state</th>\n",
              "      <th>lat</th>\n",
              "      <th>long</th>\n",
              "      <th>posting_date</th>\n",
              "    </tr>\n",
              "  </thead>\n",
              "  <tbody>\n",
              "    <tr>\n",
              "      <th>0</th>\n",
              "      <td>7222695916</td>\n",
              "      <td>https://prescott.craigslist.org/cto/d/prescott...</td>\n",
              "      <td>prescott</td>\n",
              "      <td>https://prescott.craigslist.org</td>\n",
              "      <td>6000</td>\n",
              "      <td>NaN</td>\n",
              "      <td>NaN</td>\n",
              "      <td>NaN</td>\n",
              "      <td>NaN</td>\n",
              "      <td>NaN</td>\n",
              "      <td>...</td>\n",
              "      <td>NaN</td>\n",
              "      <td>NaN</td>\n",
              "      <td>NaN</td>\n",
              "      <td>NaN</td>\n",
              "      <td>NaN</td>\n",
              "      <td>NaN</td>\n",
              "      <td>az</td>\n",
              "      <td>NaN</td>\n",
              "      <td>NaN</td>\n",
              "      <td>NaN</td>\n",
              "    </tr>\n",
              "    <tr>\n",
              "      <th>1</th>\n",
              "      <td>7218891961</td>\n",
              "      <td>https://fayar.craigslist.org/ctd/d/bentonville...</td>\n",
              "      <td>fayetteville</td>\n",
              "      <td>https://fayar.craigslist.org</td>\n",
              "      <td>11900</td>\n",
              "      <td>NaN</td>\n",
              "      <td>NaN</td>\n",
              "      <td>NaN</td>\n",
              "      <td>NaN</td>\n",
              "      <td>NaN</td>\n",
              "      <td>...</td>\n",
              "      <td>NaN</td>\n",
              "      <td>NaN</td>\n",
              "      <td>NaN</td>\n",
              "      <td>NaN</td>\n",
              "      <td>NaN</td>\n",
              "      <td>NaN</td>\n",
              "      <td>ar</td>\n",
              "      <td>NaN</td>\n",
              "      <td>NaN</td>\n",
              "      <td>NaN</td>\n",
              "    </tr>\n",
              "    <tr>\n",
              "      <th>2</th>\n",
              "      <td>7221797935</td>\n",
              "      <td>https://keys.craigslist.org/cto/d/summerland-k...</td>\n",
              "      <td>florida keys</td>\n",
              "      <td>https://keys.craigslist.org</td>\n",
              "      <td>21000</td>\n",
              "      <td>NaN</td>\n",
              "      <td>NaN</td>\n",
              "      <td>NaN</td>\n",
              "      <td>NaN</td>\n",
              "      <td>NaN</td>\n",
              "      <td>...</td>\n",
              "      <td>NaN</td>\n",
              "      <td>NaN</td>\n",
              "      <td>NaN</td>\n",
              "      <td>NaN</td>\n",
              "      <td>NaN</td>\n",
              "      <td>NaN</td>\n",
              "      <td>fl</td>\n",
              "      <td>NaN</td>\n",
              "      <td>NaN</td>\n",
              "      <td>NaN</td>\n",
              "    </tr>\n",
              "    <tr>\n",
              "      <th>3</th>\n",
              "      <td>7222270760</td>\n",
              "      <td>https://worcester.craigslist.org/cto/d/west-br...</td>\n",
              "      <td>worcester / central MA</td>\n",
              "      <td>https://worcester.craigslist.org</td>\n",
              "      <td>1500</td>\n",
              "      <td>NaN</td>\n",
              "      <td>NaN</td>\n",
              "      <td>NaN</td>\n",
              "      <td>NaN</td>\n",
              "      <td>NaN</td>\n",
              "      <td>...</td>\n",
              "      <td>NaN</td>\n",
              "      <td>NaN</td>\n",
              "      <td>NaN</td>\n",
              "      <td>NaN</td>\n",
              "      <td>NaN</td>\n",
              "      <td>NaN</td>\n",
              "      <td>ma</td>\n",
              "      <td>NaN</td>\n",
              "      <td>NaN</td>\n",
              "      <td>NaN</td>\n",
              "    </tr>\n",
              "    <tr>\n",
              "      <th>4</th>\n",
              "      <td>7210384030</td>\n",
              "      <td>https://greensboro.craigslist.org/cto/d/trinit...</td>\n",
              "      <td>greensboro</td>\n",
              "      <td>https://greensboro.craigslist.org</td>\n",
              "      <td>4900</td>\n",
              "      <td>NaN</td>\n",
              "      <td>NaN</td>\n",
              "      <td>NaN</td>\n",
              "      <td>NaN</td>\n",
              "      <td>NaN</td>\n",
              "      <td>...</td>\n",
              "      <td>NaN</td>\n",
              "      <td>NaN</td>\n",
              "      <td>NaN</td>\n",
              "      <td>NaN</td>\n",
              "      <td>NaN</td>\n",
              "      <td>NaN</td>\n",
              "      <td>nc</td>\n",
              "      <td>NaN</td>\n",
              "      <td>NaN</td>\n",
              "      <td>NaN</td>\n",
              "    </tr>\n",
              "  </tbody>\n",
              "</table>\n",
              "<p>5 rows × 26 columns</p>\n",
              "</div>\n",
              "    <div class=\"colab-df-buttons\">\n",
              "\n",
              "  <div class=\"colab-df-container\">\n",
              "    <button class=\"colab-df-convert\" onclick=\"convertToInteractive('df-e3656fe8-f4bd-4e97-9a94-c4bae612051d')\"\n",
              "            title=\"Convert this dataframe to an interactive table.\"\n",
              "            style=\"display:none;\">\n",
              "\n",
              "  <svg xmlns=\"http://www.w3.org/2000/svg\" height=\"24px\" viewBox=\"0 -960 960 960\">\n",
              "    <path d=\"M120-120v-720h720v720H120Zm60-500h600v-160H180v160Zm220 220h160v-160H400v160Zm0 220h160v-160H400v160ZM180-400h160v-160H180v160Zm440 0h160v-160H620v160ZM180-180h160v-160H180v160Zm440 0h160v-160H620v160Z\"/>\n",
              "  </svg>\n",
              "    </button>\n",
              "\n",
              "  <style>\n",
              "    .colab-df-container {\n",
              "      display:flex;\n",
              "      gap: 12px;\n",
              "    }\n",
              "\n",
              "    .colab-df-convert {\n",
              "      background-color: #E8F0FE;\n",
              "      border: none;\n",
              "      border-radius: 50%;\n",
              "      cursor: pointer;\n",
              "      display: none;\n",
              "      fill: #1967D2;\n",
              "      height: 32px;\n",
              "      padding: 0 0 0 0;\n",
              "      width: 32px;\n",
              "    }\n",
              "\n",
              "    .colab-df-convert:hover {\n",
              "      background-color: #E2EBFA;\n",
              "      box-shadow: 0px 1px 2px rgba(60, 64, 67, 0.3), 0px 1px 3px 1px rgba(60, 64, 67, 0.15);\n",
              "      fill: #174EA6;\n",
              "    }\n",
              "\n",
              "    .colab-df-buttons div {\n",
              "      margin-bottom: 4px;\n",
              "    }\n",
              "\n",
              "    [theme=dark] .colab-df-convert {\n",
              "      background-color: #3B4455;\n",
              "      fill: #D2E3FC;\n",
              "    }\n",
              "\n",
              "    [theme=dark] .colab-df-convert:hover {\n",
              "      background-color: #434B5C;\n",
              "      box-shadow: 0px 1px 3px 1px rgba(0, 0, 0, 0.15);\n",
              "      filter: drop-shadow(0px 1px 2px rgba(0, 0, 0, 0.3));\n",
              "      fill: #FFFFFF;\n",
              "    }\n",
              "  </style>\n",
              "\n",
              "    <script>\n",
              "      const buttonEl =\n",
              "        document.querySelector('#df-e3656fe8-f4bd-4e97-9a94-c4bae612051d button.colab-df-convert');\n",
              "      buttonEl.style.display =\n",
              "        google.colab.kernel.accessAllowed ? 'block' : 'none';\n",
              "\n",
              "      async function convertToInteractive(key) {\n",
              "        const element = document.querySelector('#df-e3656fe8-f4bd-4e97-9a94-c4bae612051d');\n",
              "        const dataTable =\n",
              "          await google.colab.kernel.invokeFunction('convertToInteractive',\n",
              "                                                    [key], {});\n",
              "        if (!dataTable) return;\n",
              "\n",
              "        const docLinkHtml = 'Like what you see? Visit the ' +\n",
              "          '<a target=\"_blank\" href=https://colab.research.google.com/notebooks/data_table.ipynb>data table notebook</a>'\n",
              "          + ' to learn more about interactive tables.';\n",
              "        element.innerHTML = '';\n",
              "        dataTable['output_type'] = 'display_data';\n",
              "        await google.colab.output.renderOutput(dataTable, element);\n",
              "        const docLink = document.createElement('div');\n",
              "        docLink.innerHTML = docLinkHtml;\n",
              "        element.appendChild(docLink);\n",
              "      }\n",
              "    </script>\n",
              "  </div>\n",
              "\n",
              "\n",
              "<div id=\"df-58c96030-0238-4ad6-bffa-3238ae04deeb\">\n",
              "  <button class=\"colab-df-quickchart\" onclick=\"quickchart('df-58c96030-0238-4ad6-bffa-3238ae04deeb')\"\n",
              "            title=\"Suggest charts\"\n",
              "            style=\"display:none;\">\n",
              "\n",
              "<svg xmlns=\"http://www.w3.org/2000/svg\" height=\"24px\"viewBox=\"0 0 24 24\"\n",
              "     width=\"24px\">\n",
              "    <g>\n",
              "        <path d=\"M19 3H5c-1.1 0-2 .9-2 2v14c0 1.1.9 2 2 2h14c1.1 0 2-.9 2-2V5c0-1.1-.9-2-2-2zM9 17H7v-7h2v7zm4 0h-2V7h2v10zm4 0h-2v-4h2v4z\"/>\n",
              "    </g>\n",
              "</svg>\n",
              "  </button>\n",
              "\n",
              "<style>\n",
              "  .colab-df-quickchart {\n",
              "      --bg-color: #E8F0FE;\n",
              "      --fill-color: #1967D2;\n",
              "      --hover-bg-color: #E2EBFA;\n",
              "      --hover-fill-color: #174EA6;\n",
              "      --disabled-fill-color: #AAA;\n",
              "      --disabled-bg-color: #DDD;\n",
              "  }\n",
              "\n",
              "  [theme=dark] .colab-df-quickchart {\n",
              "      --bg-color: #3B4455;\n",
              "      --fill-color: #D2E3FC;\n",
              "      --hover-bg-color: #434B5C;\n",
              "      --hover-fill-color: #FFFFFF;\n",
              "      --disabled-bg-color: #3B4455;\n",
              "      --disabled-fill-color: #666;\n",
              "  }\n",
              "\n",
              "  .colab-df-quickchart {\n",
              "    background-color: var(--bg-color);\n",
              "    border: none;\n",
              "    border-radius: 50%;\n",
              "    cursor: pointer;\n",
              "    display: none;\n",
              "    fill: var(--fill-color);\n",
              "    height: 32px;\n",
              "    padding: 0;\n",
              "    width: 32px;\n",
              "  }\n",
              "\n",
              "  .colab-df-quickchart:hover {\n",
              "    background-color: var(--hover-bg-color);\n",
              "    box-shadow: 0 1px 2px rgba(60, 64, 67, 0.3), 0 1px 3px 1px rgba(60, 64, 67, 0.15);\n",
              "    fill: var(--button-hover-fill-color);\n",
              "  }\n",
              "\n",
              "  .colab-df-quickchart-complete:disabled,\n",
              "  .colab-df-quickchart-complete:disabled:hover {\n",
              "    background-color: var(--disabled-bg-color);\n",
              "    fill: var(--disabled-fill-color);\n",
              "    box-shadow: none;\n",
              "  }\n",
              "\n",
              "  .colab-df-spinner {\n",
              "    border: 2px solid var(--fill-color);\n",
              "    border-color: transparent;\n",
              "    border-bottom-color: var(--fill-color);\n",
              "    animation:\n",
              "      spin 1s steps(1) infinite;\n",
              "  }\n",
              "\n",
              "  @keyframes spin {\n",
              "    0% {\n",
              "      border-color: transparent;\n",
              "      border-bottom-color: var(--fill-color);\n",
              "      border-left-color: var(--fill-color);\n",
              "    }\n",
              "    20% {\n",
              "      border-color: transparent;\n",
              "      border-left-color: var(--fill-color);\n",
              "      border-top-color: var(--fill-color);\n",
              "    }\n",
              "    30% {\n",
              "      border-color: transparent;\n",
              "      border-left-color: var(--fill-color);\n",
              "      border-top-color: var(--fill-color);\n",
              "      border-right-color: var(--fill-color);\n",
              "    }\n",
              "    40% {\n",
              "      border-color: transparent;\n",
              "      border-right-color: var(--fill-color);\n",
              "      border-top-color: var(--fill-color);\n",
              "    }\n",
              "    60% {\n",
              "      border-color: transparent;\n",
              "      border-right-color: var(--fill-color);\n",
              "    }\n",
              "    80% {\n",
              "      border-color: transparent;\n",
              "      border-right-color: var(--fill-color);\n",
              "      border-bottom-color: var(--fill-color);\n",
              "    }\n",
              "    90% {\n",
              "      border-color: transparent;\n",
              "      border-bottom-color: var(--fill-color);\n",
              "    }\n",
              "  }\n",
              "</style>\n",
              "\n",
              "  <script>\n",
              "    async function quickchart(key) {\n",
              "      const quickchartButtonEl =\n",
              "        document.querySelector('#' + key + ' button');\n",
              "      quickchartButtonEl.disabled = true;  // To prevent multiple clicks.\n",
              "      quickchartButtonEl.classList.add('colab-df-spinner');\n",
              "      try {\n",
              "        const charts = await google.colab.kernel.invokeFunction(\n",
              "            'suggestCharts', [key], {});\n",
              "      } catch (error) {\n",
              "        console.error('Error during call to suggestCharts:', error);\n",
              "      }\n",
              "      quickchartButtonEl.classList.remove('colab-df-spinner');\n",
              "      quickchartButtonEl.classList.add('colab-df-quickchart-complete');\n",
              "    }\n",
              "    (() => {\n",
              "      let quickchartButtonEl =\n",
              "        document.querySelector('#df-58c96030-0238-4ad6-bffa-3238ae04deeb button');\n",
              "      quickchartButtonEl.style.display =\n",
              "        google.colab.kernel.accessAllowed ? 'block' : 'none';\n",
              "    })();\n",
              "  </script>\n",
              "</div>\n",
              "\n",
              "    </div>\n",
              "  </div>\n"
            ],
            "application/vnd.google.colaboratory.intrinsic+json": {
              "type": "dataframe",
              "variable_name": "df"
            }
          },
          "metadata": {},
          "execution_count": 10
        }
      ]
    },
    {
      "cell_type": "markdown",
      "source": [
        "# **Data Cleaning**"
      ],
      "metadata": {
        "id": "4FvBLYQO6Plc"
      }
    },
    {
      "cell_type": "code",
      "source": [
        "df.shape"
      ],
      "metadata": {
        "colab": {
          "base_uri": "https://localhost:8080/"
        },
        "id": "5cPo171g6V4Q",
        "outputId": "6a5578a1-3967-4ef7-c089-e1db72ee2acd"
      },
      "execution_count": null,
      "outputs": [
        {
          "output_type": "execute_result",
          "data": {
            "text/plain": [
              "(426880, 26)"
            ]
          },
          "metadata": {},
          "execution_count": 11
        }
      ]
    },
    {
      "cell_type": "code",
      "source": [
        "# Drop irrelevant columns\n",
        "columns_to_drop = ['url', 'region_url', 'VIN', 'description', 'image_url', 'county']\n",
        "df.drop(columns=columns_to_drop, inplace=True, errors='ignore')"
      ],
      "metadata": {
        "id": "3NWiOpeeKPGe"
      },
      "execution_count": 21,
      "outputs": []
    },
    {
      "cell_type": "code",
      "source": [
        "# Handle missing values\n",
        "missing_value_threshold = 0.5\n",
        "columns_to_keep = df.columns[df.isnull().mean() < missing_value_threshold]\n",
        "df = df[columns_to_keep]"
      ],
      "metadata": {
        "id": "zcOsiMvaKeYu"
      },
      "execution_count": 22,
      "outputs": []
    },
    {
      "cell_type": "code",
      "source": [
        "# Fill missing values for categorical columns with 'Unknown'\n",
        "categorical_cols = df.select_dtypes(include=['object']).columns\n",
        "df[categorical_cols] = df[categorical_cols].fillna('Unknown')"
      ],
      "metadata": {
        "id": "q9uHIaZWKus-"
      },
      "execution_count": 23,
      "outputs": []
    },
    {
      "cell_type": "code",
      "source": [
        "# Fill missing values for numerical columns with median\n",
        "numerical_cols = df.select_dtypes(include=['number']).columns\n",
        "df[numerical_cols] = df[numerical_cols].fillna(df[numerical_cols].median())"
      ],
      "metadata": {
        "id": "FlDkyC1hLA0w"
      },
      "execution_count": 24,
      "outputs": []
    },
    {
      "cell_type": "code",
      "source": [
        "# Remove duplicates\n",
        "df.drop_duplicates(inplace=True)"
      ],
      "metadata": {
        "id": "hf7nxjbbLTej"
      },
      "execution_count": 25,
      "outputs": []
    },
    {
      "cell_type": "code",
      "source": [
        "# Remove outliers\n",
        "price_upper_limit = df['price'].quantile(0.99)\n",
        "price_lower_limit = 500\n",
        "df = df[(df['price'] >= price_lower_limit) & (df['price'] <= price_upper_limit)]\n",
        "odometer_upper_limit = df['odometer'].quantile(0.99)\n",
        "df = df[df['odometer'] <= odometer_upper_limit]"
      ],
      "metadata": {
        "id": "nAkxbtE8LiHv"
      },
      "execution_count": 27,
      "outputs": []
    },
    {
      "cell_type": "code",
      "source": [
        "# Standardize categorical data\n",
        "categorical_cols = ['condition', 'fuel', 'transmission', 'drive', 'type', 'paint_color']\n",
        "for col in categorical_cols:\n",
        "    df[col] = df[col].str.lower().str.strip()"
      ],
      "metadata": {
        "id": "aidBhZCFLsOs"
      },
      "execution_count": 28,
      "outputs": []
    },
    {
      "cell_type": "code",
      "source": [
        "# Create new derived columns\n",
        "df['vehicle_age'] = 2024 - df['year']\n",
        "df['posting_date'] = pd.to_datetime(df['posting_date'], format='%Y-%m-%d %H:%M:%S', errors='coerce')\n",
        "# Adjust format if needed\n",
        "df['posting_year'] = df['posting_date'].dt.year"
      ],
      "metadata": {
        "id": "pGWVssDwMJRm"
      },
      "execution_count": 36,
      "outputs": []
    },
    {
      "cell_type": "markdown",
      "source": [
        "# **EDA Section**"
      ],
      "metadata": {
        "id": "lT9J1FC9NtfK"
      }
    },
    {
      "cell_type": "code",
      "source": [
        "# Summary statistics\n",
        "print(df.describe())\n",
        "print(df.info())"
      ],
      "metadata": {
        "colab": {
          "base_uri": "https://localhost:8080/"
        },
        "id": "NJkBljUuNr-Z",
        "outputId": "bbc7bd40-8503-46ae-ba19-4bec60bbeb7c"
      },
      "execution_count": 35,
      "outputs": [
        {
          "output_type": "stream",
          "name": "stdout",
          "text": [
            "                 id          price           year       odometer  \\\n",
            "count  3.729470e+05  372947.000000  372947.000000  372947.000000   \n",
            "mean   7.311461e+09   18245.468345    2010.993356   92291.559219   \n",
            "min    7.207408e+09     500.000000    1900.000000       0.000000   \n",
            "25%    7.308073e+09    7636.000000    2008.000000   39631.000000   \n",
            "50%    7.312573e+09   15500.000000    2013.000000   87985.000000   \n",
            "75%    7.315242e+09   26995.000000    2017.000000  135000.000000   \n",
            "max    7.317101e+09   57875.000000    2022.000000  279700.000000   \n",
            "std    4.480929e+06   12624.824934       9.407741   60772.166133   \n",
            "\n",
            "                 lat           long posting_date    vehicle_age  posting_year  \n",
            "count  372947.000000  372947.000000            0  372947.000000           0.0  \n",
            "mean       38.514123     -94.063815          NaT      13.006644           NaN  \n",
            "min       -81.838232    -159.719900          NaT       2.000000           NaN  \n",
            "25%        34.801450    -108.539000          NaT       7.000000           NaN  \n",
            "50%        39.156400     -87.993100          NaT      11.000000           NaN  \n",
            "75%        42.316052     -80.829894          NaT      16.000000           NaN  \n",
            "max        82.390818     167.629911          NaT     124.000000           NaN  \n",
            "std         5.794110      17.959676          NaN       9.407741           NaN  \n",
            "<class 'pandas.core.frame.DataFrame'>\n",
            "Index: 372947 entries, 0 to 426879\n",
            "Data columns (total 21 columns):\n",
            " #   Column        Non-Null Count   Dtype         \n",
            "---  ------        --------------   -----         \n",
            " 0   id            372947 non-null  int64         \n",
            " 1   region        372947 non-null  object        \n",
            " 2   price         372947 non-null  int64         \n",
            " 3   year          372947 non-null  float64       \n",
            " 4   manufacturer  372947 non-null  object        \n",
            " 5   model         372947 non-null  object        \n",
            " 6   condition     372947 non-null  object        \n",
            " 7   cylinders     372947 non-null  object        \n",
            " 8   fuel          372947 non-null  object        \n",
            " 9   odometer      372947 non-null  float64       \n",
            " 10  title_status  372947 non-null  object        \n",
            " 11  transmission  372947 non-null  object        \n",
            " 12  drive         372947 non-null  object        \n",
            " 13  type          372947 non-null  object        \n",
            " 14  paint_color   372947 non-null  object        \n",
            " 15  state         372947 non-null  object        \n",
            " 16  lat           372947 non-null  float64       \n",
            " 17  long          372947 non-null  float64       \n",
            " 18  posting_date  0 non-null       datetime64[ns]\n",
            " 19  vehicle_age   372947 non-null  float64       \n",
            " 20  posting_year  0 non-null       float64       \n",
            "dtypes: datetime64[ns](1), float64(6), int64(2), object(12)\n",
            "memory usage: 62.6+ MB\n",
            "None\n"
          ]
        }
      ]
    },
    {
      "cell_type": "code",
      "source": [
        "# Distribution of price\n",
        "plt.figure(figsize=(10, 5))\n",
        "sns.histplot(df['price'], kde=True, bins=50, color='blue')\n",
        "plt.title('Distribution of Vehicle Prices')\n",
        "plt.xlabel('Price (USD)')\n",
        "plt.ylabel('Frequency')\n",
        "plt.show()"
      ],
      "metadata": {
        "colab": {
          "base_uri": "https://localhost:8080/",
          "height": 487
        },
        "id": "8FxXbio_OLZy",
        "outputId": "df51c646-3cc2-4926-ff5c-99e4b82c91be"
      },
      "execution_count": 37,
      "outputs": [
        {
          "output_type": "display_data",
          "data": {
            "text/plain": [
              "<Figure size 1000x500 with 1 Axes>"
            ],
            "image/png": "[encoded data removed]"
          },
          "metadata": {}
        }
      ]
    },
    {
      "cell_type": "code",
      "source": [
        "# Vehicle condition counts\n",
        "plt.figure(figsize=(8, 4))\n",
        "df['condition'].value_counts().plot(kind='bar', color='orange')\n",
        "plt.title('Vehicle Condition Distribution')\n",
        "plt.xlabel('Condition')\n",
        "plt.ylabel('Count')\n",
        "plt.show()"
      ],
      "metadata": {
        "colab": {
          "base_uri": "https://localhost:8080/",
          "height": 459
        },
        "id": "t2je4wiMOdHl",
        "outputId": "c3bfb556-6068-431e-bf6f-7e30991a568b"
      },
      "execution_count": 38,
      "outputs": [
        {
          "output_type": "display_data",
          "data": {
            "text/plain": [
              "<Figure size 800x400 with 1 Axes>"
            ],
            "image/png": "[encoded data removed]"
          },
          "metadata": {}
        }
      ]
    },
    {
      "cell_type": "code",
      "source": [
        "# Manufacturer popularity\n",
        "plt.figure(figsize=(12, 6))\n",
        "df['manufacturer'].value_counts().head(10).plot(kind='bar', color='green')\n",
        "plt.title('Top 10 Manufacturers by Count')\n",
        "plt.xlabel('Manufacturer')\n",
        "plt.ylabel('Count')\n",
        "plt.show()"
      ],
      "metadata": {
        "colab": {
          "base_uri": "https://localhost:8080/",
          "height": 615
        },
        "id": "RTIS4KvqOuhl",
        "outputId": "b8049041-d11b-4d95-e1c2-b2026adc1afa"
      },
      "execution_count": 39,
      "outputs": [
        {
          "output_type": "display_data",
          "data": {
            "text/plain": [
              "<Figure size 1200x600 with 1 Axes>"
            ],
            "image/png": "[encoded data removed]"
          },
          "metadata": {}
        }
      ]
    },
    {
      "cell_type": "markdown",
      "source": [
        "# **1. What is the price trend for vehicles over time ?**\n"
      ],
      "metadata": {
        "id": "wtQJb6khQTpO"
      }
    },
    {
      "cell_type": "code",
      "source": [
        "# Average price by year\n",
        "avg_price_by_year = df.groupby('year')['price'].mean().sort_index()\n",
        "avg_price_by_year.plot(kind='line', figsize=(10, 6), color='blue')\n",
        "plt.title('Average Vehicle Price Over Time')\n",
        "plt.xlabel('Year')\n",
        "plt.ylabel('Average Price')\n",
        "plt.grid()\n",
        "plt.show()"
      ],
      "metadata": {
        "colab": {
          "base_uri": "https://localhost:8080/",
          "height": 564
        },
        "id": "DzEfY3hMQd3h",
        "outputId": "a7c6f3d5-15f0-4fbf-a57c-5d387a0acba8"
      },
      "execution_count": 48,
      "outputs": [
        {
          "output_type": "display_data",
          "data": {
            "text/plain": [
              "<Figure size 1000x600 with 1 Axes>"
            ],
            "image/png": "[encoded data removed]"
          },
          "metadata": {}
        }
      ]
    },
    {
      "cell_type": "markdown",
      "source": [
        "# **2. Which vehicle types have the highest average prices?**"
      ],
      "metadata": {
        "id": "PISbY2y7Qx-M"
      }
    },
    {
      "cell_type": "code",
      "source": [
        "# Average price by vehicle type\n",
        "avg_price_by_type = df.groupby('type')['price'].mean().sort_values(ascending=False)\n",
        "print(avg_price_by_type)"
      ],
      "metadata": {
        "colab": {
          "base_uri": "https://localhost:8080/"
        },
        "id": "kQQYB8zGQ8OC",
        "outputId": "d9b12511-7e3d-4a22-e915-034fe559830f"
      },
      "execution_count": 50,
      "outputs": [
        {
          "output_type": "stream",
          "name": "stdout",
          "text": [
            "type\n",
            "pickup         27309.594237\n",
            "other          26243.134744\n",
            "truck          24922.141677\n",
            "coupe          21282.715383\n",
            "van            18105.372904\n",
            "convertible    18051.690688\n",
            "suv            17528.776219\n",
            "offroad        15952.849291\n",
            "hatchback      15256.240131\n",
            "unknown        14911.644224\n",
            "bus            14847.939262\n",
            "wagon          14394.359030\n",
            "sedan          14384.312071\n",
            "mini-van        9822.013680\n",
            "Name: price, dtype: float64\n"
          ]
        }
      ]
    },
    {
      "cell_type": "markdown",
      "source": [
        "# **3. How does mileage (odometer reading) vary by car condition?**"
      ],
      "metadata": {
        "id": "iWK44M8yRdy8"
      }
    },
    {
      "cell_type": "code",
      "source": [
        "# Average odometer reading by condition\n",
        "avg_odometer_by_condition = df.groupby('condition')['odometer'].mean().sort_values()\n",
        "print(avg_odometer_by_condition)"
      ],
      "metadata": {
        "colab": {
          "base_uri": "https://localhost:8080/"
        },
        "id": "QI4U3ux1RW5f",
        "outputId": "e9b9f808-9eff-4d11-a185-6f4d6be8f5ff"
      },
      "execution_count": 52,
      "outputs": [
        {
          "output_type": "stream",
          "name": "stdout",
          "text": [
            "condition\n",
            "new           54169.375144\n",
            "good          75262.714856\n",
            "like new      82249.377466\n",
            "unknown       96452.794881\n",
            "excellent    105870.438411\n",
            "salvage      131908.391051\n",
            "fair         153421.765137\n",
            "Name: odometer, dtype: float64\n"
          ]
        }
      ]
    },
    {
      "cell_type": "markdown",
      "source": [
        "# **4. How does the price vary across vehicle types?**"
      ],
      "metadata": {
        "id": "c-5Hbl3eSAZs"
      }
    },
    {
      "cell_type": "code",
      "source": [
        "# Average price by vehicle type\n",
        "avg_price_by_type = df.groupby('type')['price'].mean().sort_values(ascending=False)\n",
        "print(avg_price_by_type)"
      ],
      "metadata": {
        "colab": {
          "base_uri": "https://localhost:8080/"
        },
        "id": "e00SNQAMSPwl",
        "outputId": "536b0da7-1079-484a-e7f1-4cb358bbdd41"
      },
      "execution_count": 53,
      "outputs": [
        {
          "output_type": "stream",
          "name": "stdout",
          "text": [
            "type\n",
            "pickup         27309.594237\n",
            "other          26243.134744\n",
            "truck          24922.141677\n",
            "coupe          21282.715383\n",
            "van            18105.372904\n",
            "convertible    18051.690688\n",
            "suv            17528.776219\n",
            "offroad        15952.849291\n",
            "hatchback      15256.240131\n",
            "unknown        14911.644224\n",
            "bus            14847.939262\n",
            "wagon          14394.359030\n",
            "sedan          14384.312071\n",
            "mini-van        9822.013680\n",
            "Name: price, dtype: float64\n"
          ]
        }
      ]
    },
    {
      "cell_type": "markdown",
      "source": [
        "# **5. Which regions or states have the most vehicle listings?**"
      ],
      "metadata": {
        "id": "yM7sWFhcSZCr"
      }
    },
    {
      "cell_type": "code",
      "source": [
        "# Count listings by state\n",
        "listings_by_state = df['state'].value_counts()\n",
        "print(listings_by_state)"
      ],
      "metadata": {
        "colab": {
          "base_uri": "https://localhost:8080/"
        },
        "id": "KbjmUAEYSqBp",
        "outputId": "de8e3497-3617-484f-bcb2-c1b31df23758"
      },
      "execution_count": 55,
      "outputs": [
        {
          "output_type": "stream",
          "name": "stdout",
          "text": [
            "state\n",
            "ca    42534\n",
            "fl    25173\n",
            "tx    20127\n",
            "ny    17263\n",
            "oh    16114\n",
            "mi    15864\n",
            "pa    12562\n",
            "nc    12266\n",
            "or    12207\n",
            "wa    10907\n",
            "wi    10814\n",
            "tn    10216\n",
            "co    10017\n",
            "il     9272\n",
            "nj     9033\n",
            "va     8582\n",
            "ia     7900\n",
            "az     7775\n",
            "ma     7524\n",
            "id     7488\n",
            "mn     7075\n",
            "ga     6110\n",
            "ks     5762\n",
            "mt     5686\n",
            "sc     5497\n",
            "ok     5366\n",
            "in     5316\n",
            "ct     4903\n",
            "al     4567\n",
            "md     4224\n",
            "ky     3984\n",
            "mo     3778\n",
            "nm     3562\n",
            "ak     3322\n",
            "ar     3114\n",
            "nv     2886\n",
            "nh     2655\n",
            "la     2622\n",
            "dc     2617\n",
            "hi     2458\n",
            "me     2388\n",
            "vt     2307\n",
            "ri     2236\n",
            "sd     1189\n",
            "ut     1021\n",
            "ne      980\n",
            "wv      974\n",
            "ms      928\n",
            "de      862\n",
            "wy      548\n",
            "nd      372\n",
            "Name: count, dtype: int64\n"
          ]
        }
      ]
    },
    {
      "cell_type": "markdown",
      "source": [
        "# **6. What is the average price for vehicles based on their condition?**"
      ],
      "metadata": {
        "id": "LP_70SC1Tmjm"
      }
    },
    {
      "cell_type": "code",
      "source": [
        "# Average price by condition\n",
        "avg_price_by_condition = df.groupby('condition')['price'].mean().sort_values()\n",
        "print(avg_price_by_condition)"
      ],
      "metadata": {
        "colab": {
          "base_uri": "https://localhost:8080/"
        },
        "id": "rj8jm38UTa4Z",
        "outputId": "0ed1a4fa-28e7-4ea9-c643-7050bdd712fc"
      },
      "execution_count": 56,
      "outputs": [
        {
          "output_type": "stream",
          "name": "stdout",
          "text": [
            "condition\n",
            "fair          3887.294434\n",
            "salvage       4070.295720\n",
            "excellent    14959.992781\n",
            "like new     17771.648559\n",
            "unknown      18862.076071\n",
            "good         20932.669032\n",
            "new          22316.737629\n",
            "Name: price, dtype: float64\n"
          ]
        }
      ]
    },
    {
      "cell_type": "markdown",
      "source": [
        "# **7. What are the most popular vehicle types?**"
      ],
      "metadata": {
        "id": "K6H0GZ36Tw4u"
      }
    },
    {
      "cell_type": "code",
      "source": [
        "# Count vehicle types\n",
        "popular_vehicle_types = df['type'].value_counts()\n",
        "print(popular_vehicle_types)"
      ],
      "metadata": {
        "colab": {
          "base_uri": "https://localhost:8080/"
        },
        "id": "mUfFGQkxT6Vn",
        "outputId": "6c399c20-1535-4d49-f514-e245ee5ffaa3"
      },
      "execution_count": 57,
      "outputs": [
        {
          "output_type": "stream",
          "name": "stdout",
          "text": [
            "type\n",
            "unknown        79907\n",
            "sedan          77476\n",
            "suv            67624\n",
            "pickup         39146\n",
            "truck          27351\n",
            "other          18910\n",
            "coupe          17188\n",
            "hatchback      15579\n",
            "wagon           9729\n",
            "van             7573\n",
            "convertible     6980\n",
            "mini-van        4459\n",
            "offroad          564\n",
            "bus              461\n",
            "Name: count, dtype: int64\n"
          ]
        }
      ]
    },
    {
      "cell_type": "markdown",
      "source": [
        "# **8. What is the price difference between manual and automatic vehicles?**"
      ],
      "metadata": {
        "id": "CpwDcm0aUMaS"
      }
    },
    {
      "cell_type": "code",
      "source": [
        "# Average price by transmission type\n",
        "avg_price_by_transmission = df.groupby('transmission')['price'].mean()\n",
        "print(avg_price_by_transmission)"
      ],
      "metadata": {
        "colab": {
          "base_uri": "https://localhost:8080/"
        },
        "id": "6lgL52HTUSMa",
        "outputId": "2b02b4d0-df28-4e45-d128-caffff99f1f0"
      },
      "execution_count": 58,
      "outputs": [
        {
          "output_type": "stream",
          "name": "stdout",
          "text": [
            "transmission\n",
            "automatic    16509.266338\n",
            "manual       13686.645748\n",
            "other        28191.625728\n",
            "unknown      18230.873134\n",
            "Name: price, dtype: float64\n"
          ]
        }
      ]
    },
    {
      "cell_type": "markdown",
      "source": [
        "# **9. What are the most common car manufacturers in the dataset?**"
      ],
      "metadata": {
        "id": "bbW3zBZGUg6H"
      }
    },
    {
      "cell_type": "code",
      "source": [
        "# Top 10 manufacturers by count\n",
        "top_manufacturers = df['manufacturer'].value_counts().head(10)\n",
        "print(top_manufacturers)"
      ],
      "metadata": {
        "colab": {
          "base_uri": "https://localhost:8080/"
        },
        "id": "ndA2Gg3IUoIy",
        "outputId": "d6d81950-3599-4dde-ce3f-242da7a143fa"
      },
      "execution_count": 59,
      "outputs": [
        {
          "output_type": "stream",
          "name": "stdout",
          "text": [
            "manufacturer\n",
            "ford         60970\n",
            "chevrolet    47622\n",
            "toyota       30361\n",
            "honda        19227\n",
            "nissan       16888\n",
            "jeep         16664\n",
            "ram          15056\n",
            "gmc          14232\n",
            "Unknown      14008\n",
            "bmw          13146\n",
            "Name: count, dtype: int64\n"
          ]
        }
      ]
    },
    {
      "cell_type": "markdown",
      "source": [
        "# **10. Which states have the highest average vehicle price?**"
      ],
      "metadata": {
        "id": "fhhbOJpbUt62"
      }
    },
    {
      "cell_type": "code",
      "source": [
        "# Average price by state\n",
        "avg_price_by_state = df.groupby('state')['price'].mean().sort_values(ascending=False)\n",
        "print(avg_price_by_state.head(10))"
      ],
      "metadata": {
        "colab": {
          "base_uri": "https://localhost:8080/"
        },
        "id": "FCjTByUPU63T",
        "outputId": "e227729f-360c-49f9-b835-03263223f433"
      },
      "execution_count": 61,
      "outputs": [
        {
          "output_type": "stream",
          "name": "stdout",
          "text": [
            "state\n",
            "wv    24394.821355\n",
            "ak    23051.547261\n",
            "mt    23023.180795\n",
            "mo    22161.708841\n",
            "wa    21949.009260\n",
            "wy    21553.096715\n",
            "ar    21254.629737\n",
            "ut    21199.427032\n",
            "hi    21077.475590\n",
            "al    20813.456974\n",
            "Name: price, dtype: float64\n"
          ]
        }
      ]
    }
  ]
}